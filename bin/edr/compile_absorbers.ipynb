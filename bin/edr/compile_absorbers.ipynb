{
 "cells": [
  {
   "cell_type": "code",
   "execution_count": 1,
   "id": "cb3fa9b5",
   "metadata": {},
   "outputs": [],
   "source": [
    "import os\n",
    "import pickle\n",
    "import numpy as np\n",
    "import torch\n",
    "\n",
    "from spenderq import load_model\n",
    "from spenderq import util as U\n",
    "from spenderq import lyalpha as LyA"
   ]
  },
  {
   "cell_type": "code",
   "execution_count": 16,
   "id": "de3bfb5f",
   "metadata": {},
   "outputs": [],
   "source": [
    "from astropy.table import Table, vstack"
   ]
  },
  {
   "cell_type": "code",
   "execution_count": 2,
   "id": "ab3acd7e",
   "metadata": {},
   "outputs": [],
   "source": [
    "# --- plotting --- \n",
    "import matplotlib as mpl\n",
    "import matplotlib.pyplot as plt\n",
    "from matplotlib import gridspec\n",
    "mpl.rcParams['text.usetex'] = True\n",
    "mpl.rcParams['font.family'] = 'serif'\n",
    "mpl.rcParams['axes.linewidth'] = 1.5\n",
    "mpl.rcParams['axes.xmargin'] = 1\n",
    "mpl.rcParams['xtick.labelsize'] = 'x-large'\n",
    "mpl.rcParams['xtick.major.size'] = 5\n",
    "mpl.rcParams['xtick.major.width'] = 1.5\n",
    "mpl.rcParams['ytick.labelsize'] = 'x-large'\n",
    "mpl.rcParams['ytick.major.size'] = 5\n",
    "mpl.rcParams['ytick.major.width'] = 1.5\n",
    "mpl.rcParams['legend.frameon'] = False\n",
    "%matplotlib inline"
   ]
  },
  {
   "cell_type": "code",
   "execution_count": 6,
   "id": "123a593b",
   "metadata": {},
   "outputs": [],
   "source": [
    "redshifts, tids = [], []\n",
    "z_absorbers = []\n",
    "for ibatch in range(85): \n",
    "    # load batch\n",
    "    #with open('/tigress/chhahn/spender_qso/train/edr.lfsc.rsnr.sa1p1sb0p8.i%i_%i.pkl' % (niter, ibatch), \"rb\") as f:\n",
    "    with open('/tigress/chhahn/spender_qso/train/DESI.edr.qso_highz_%i.pkl' % ibatch, 'rb') as f: \n",
    "        _, _, z, target_id, _, _ = pickle.load(f)\n",
    "        \n",
    "    # read absorbers\n",
    "    i_absorb, z_absorb = [], [] \n",
    "    with open('/tigress/chhahn/spender_qso/absorbers/MgII.DESI.edr.qso_highz_%i.pkl' % ibatch, 'rb') as f: \n",
    "        out = pickle.load(f)\n",
    "        i_absorb.append(np.concatenate([np.repeat(_o[0], len(_o[1])) for _o in out]))\n",
    "        z_absorb.append([_o[1] for _o in out])\n",
    "    i_absorb = np.concatenate(np.array(i_absorb))\n",
    "    z_absorb = np.concatenate(z_absorb[0])\n",
    "    z_absorbers.append(z_absorb)\n",
    "    \n",
    "    tids.append(np.array(target_id)[i_absorb])\n",
    "    redshifts.append(np.array(z)[i_absorb])\n",
    "\n",
    "tids = np.concatenate(tids)\n",
    "redshifts = np.concatenate(redshifts)\n",
    "z_absorbers = np.concatenate(z_absorbers)"
   ]
  },
  {
   "cell_type": "code",
   "execution_count": 9,
   "id": "6ec8a0a2",
   "metadata": {},
   "outputs": [],
   "source": [
    "mgii_absorbers = Table()\n",
    "mgii_absorbers['ABSORBER'] = np.repeat('MgII', len(tids))\n",
    "mgii_absorbers['TARGETID'] = tids\n",
    "mgii_absorbers['Z_ABSORBER'] = z_absorbers\n",
    "mgii_absorbers['Z_QSO'] = redshifts"
   ]
  },
  {
   "cell_type": "code",
   "execution_count": 12,
   "id": "299add9e",
   "metadata": {},
   "outputs": [
    {
     "name": "stdout",
     "output_type": "stream",
     "text": [
      "5709 MgII absorbers\n"
     ]
    }
   ],
   "source": [
    "print('%i MgII absorbers' % len(mgii_absorbers))"
   ]
  },
  {
   "cell_type": "code",
   "execution_count": 19,
   "id": "b1527d04",
   "metadata": {},
   "outputs": [],
   "source": [
    "redshifts, tids = [], []\n",
    "z_absorbers = []\n",
    "for ibatch in range(85): \n",
    "    # load batch\n",
    "    #with open('/tigress/chhahn/spender_qso/train/edr.lfsc.rsnr.sa1p1sb0p8.i%i_%i.pkl' % (niter, ibatch), \"rb\") as f:\n",
    "    with open('/tigress/chhahn/spender_qso/train/DESI.edr.qso_highz_%i.pkl' % ibatch, 'rb') as f: \n",
    "        _, _, z, target_id, _, _ = pickle.load(f)\n",
    "    \n",
    "\n",
    "    # read absorbers\n",
    "    i_absorb, z_absorb = [], [] \n",
    "    with open('/tigress/chhahn/spender_qso/absorbers/CIV.DESI.edr.qso_highz_%i.pkl' % ibatch, 'rb') as f: \n",
    "        out = pickle.load(f)\n",
    "        i_absorb.append(np.concatenate([np.repeat(_o[0], len(_o[1])) for _o in out]))\n",
    "        z_absorb.append([_o[1] for _o in out])\n",
    "    i_absorb = np.concatenate(np.array(i_absorb))\n",
    "    z_absorb = np.concatenate(z_absorb[0])\n",
    "    z_absorbers.append(z_absorb)\n",
    "\n",
    "    tids.append(np.array(target_id)[i_absorb])\n",
    "    redshifts.append(np.array(z)[i_absorb])\n",
    "\n",
    "tids = np.concatenate(tids)\n",
    "redshifts = np.concatenate(redshifts)\n",
    "z_absorbers = np.concatenate(z_absorbers)"
   ]
  },
  {
   "cell_type": "code",
   "execution_count": 20,
   "id": "0219b213",
   "metadata": {},
   "outputs": [],
   "source": [
    "civ_absorbers = Table()\n",
    "civ_absorbers['ABSORBER'] = np.repeat('CIV', len(tids))\n",
    "civ_absorbers['TARGETID'] = tids\n",
    "civ_absorbers['Z_ABSORBER'] = z_absorbers\n",
    "civ_absorbers['Z_QSO'] = redshifts"
   ]
  },
  {
   "cell_type": "code",
   "execution_count": 21,
   "id": "0eef2638",
   "metadata": {},
   "outputs": [
    {
     "name": "stdout",
     "output_type": "stream",
     "text": [
      "8018\n"
     ]
    }
   ],
   "source": [
    "print(len(civ_absorbers))"
   ]
  },
  {
   "cell_type": "code",
   "execution_count": 22,
   "id": "50deff71",
   "metadata": {},
   "outputs": [],
   "source": [
    "all_absorbers = vstack([mgii_absorbers, civ_absorbers])"
   ]
  },
  {
   "cell_type": "code",
   "execution_count": 24,
   "id": "a06ebbd0",
   "metadata": {},
   "outputs": [
    {
     "name": "stderr",
     "output_type": "stream",
     "text": [
      "/home/chhahn/.conda/envs/gqp/lib/python3.11/site-packages/astropy/io/misc/hdf5.py:281: UserWarning: table path was not set via the path= argument; using default path __astropy_table__\n",
      "  warnings.warn(\n"
     ]
    }
   ],
   "source": [
    "all_absorbers.write('/tigress/chhahn/spender_qso/absorbers/DESI.edr.qso_highz.absorbers.hdf5')"
   ]
  },
  {
   "cell_type": "code",
   "execution_count": null,
   "id": "7f89aefc",
   "metadata": {},
   "outputs": [],
   "source": []
  }
 ],
 "metadata": {
  "kernelspec": {
   "display_name": "gqp",
   "language": "python",
   "name": "gqp"
  },
  "language_info": {
   "codemirror_mode": {
    "name": "ipython",
    "version": 3
   },
   "file_extension": ".py",
   "mimetype": "text/x-python",
   "name": "python",
   "nbconvert_exporter": "python",
   "pygments_lexer": "ipython3",
   "version": "3.11.9"
  }
 },
 "nbformat": 4,
 "nbformat_minor": 5
}

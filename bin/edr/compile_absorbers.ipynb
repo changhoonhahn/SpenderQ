{
 "cells": [
  {
   "cell_type": "code",
   "execution_count": 1,
   "id": "cb3fa9b5",
   "metadata": {},
   "outputs": [],
   "source": [
    "import os\n",
    "import pickle\n",
    "import numpy as np\n",
    "import torch\n",
    "\n",
    "from spenderq import load_model\n",
    "from spenderq import util as U\n",
    "from spenderq import lyalpha as LyA"
   ]
  },
  {
   "cell_type": "code",
   "execution_count": 2,
   "id": "de3bfb5f",
   "metadata": {},
   "outputs": [],
   "source": [
    "from astropy.table import Table, vstack"
   ]
  },
  {
   "cell_type": "code",
   "execution_count": 3,
   "id": "ab3acd7e",
   "metadata": {},
   "outputs": [],
   "source": [
    "# --- plotting --- \n",
    "import matplotlib as mpl\n",
    "import matplotlib.pyplot as plt\n",
    "from matplotlib import gridspec\n",
    "mpl.rcParams['text.usetex'] = True\n",
    "mpl.rcParams['font.family'] = 'serif'\n",
    "mpl.rcParams['axes.linewidth'] = 1.5\n",
    "mpl.rcParams['axes.xmargin'] = 1\n",
    "mpl.rcParams['xtick.labelsize'] = 'x-large'\n",
    "mpl.rcParams['xtick.major.size'] = 5\n",
    "mpl.rcParams['xtick.major.width'] = 1.5\n",
    "mpl.rcParams['ytick.labelsize'] = 'x-large'\n",
    "mpl.rcParams['ytick.major.size'] = 5\n",
    "mpl.rcParams['ytick.major.width'] = 1.5\n",
    "mpl.rcParams['legend.frameon'] = False\n",
    "%matplotlib inline"
   ]
  },
  {
   "cell_type": "code",
   "execution_count": 4,
   "id": "123a593b",
   "metadata": {},
   "outputs": [],
   "source": [
    "redshifts, tids = [], []\n",
    "z_absorbers = []\n",
    "for ibatch in range(85): \n",
    "    # load batch\n",
    "    #with open('/tigress/chhahn/spender_qso/train/edr.lfsc.rsnr.sa1p1sb0p8.i%i_%i.pkl' % (niter, ibatch), \"rb\") as f:\n",
    "    with open('/tigress/chhahn/spender_qso/train/DESI.edr.qso_highz_%i.pkl' % ibatch, 'rb') as f: \n",
    "        _, _, z, target_id, _, _ = pickle.load(f)\n",
    "        \n",
    "    # read absorbers\n",
    "    i_absorb, z_absorb = [], [] \n",
    "    with open('/tigress/chhahn/spender_qso/absorbers/MgII.DESI.edr.qso_highz_%i.pkl' % ibatch, 'rb') as f: \n",
    "        out = pickle.load(f)\n",
    "        i_absorb.append(np.concatenate([np.repeat(_o[0], len(_o[1])) for _o in out]))\n",
    "        z_absorb.append([_o[1] for _o in out])\n",
    "    i_absorb = np.concatenate(np.array(i_absorb))\n",
    "    z_absorb = np.concatenate(z_absorb[0])\n",
    "    z_absorbers.append(z_absorb)\n",
    "    \n",
    "    tids.append(np.array(target_id)[i_absorb])\n",
    "    redshifts.append(np.array(z)[i_absorb])\n",
    "\n",
    "tids = np.concatenate(tids)\n",
    "redshifts = np.concatenate(redshifts)\n",
    "z_absorbers = np.concatenate(z_absorbers)"
   ]
  },
  {
   "cell_type": "code",
   "execution_count": 6,
   "id": "6ec8a0a2",
   "metadata": {},
   "outputs": [],
   "source": [
    "mgii_absorbers = Table()\n",
    "mgii_absorbers['ABSORBER'] = np.repeat('MgII', len(tids)).astype(\"<U24\")\n",
    "mgii_absorbers['TARGETID'] = tids\n",
    "mgii_absorbers['Z_ABSORBER'] = z_absorbers\n",
    "mgii_absorbers['Z_QSO'] = redshifts"
   ]
  },
  {
   "cell_type": "code",
   "execution_count": 7,
   "id": "299add9e",
   "metadata": {},
   "outputs": [
    {
     "name": "stdout",
     "output_type": "stream",
     "text": [
      "5709 MgII absorbers\n"
     ]
    }
   ],
   "source": [
    "print('%i MgII absorbers' % len(mgii_absorbers))"
   ]
  },
  {
   "cell_type": "code",
   "execution_count": 8,
   "id": "b1527d04",
   "metadata": {},
   "outputs": [],
   "source": [
    "redshifts, tids = [], []\n",
    "z_absorbers = []\n",
    "for ibatch in range(85): \n",
    "    # load batch\n",
    "    #with open('/tigress/chhahn/spender_qso/train/edr.lfsc.rsnr.sa1p1sb0p8.i%i_%i.pkl' % (niter, ibatch), \"rb\") as f:\n",
    "    with open('/tigress/chhahn/spender_qso/train/DESI.edr.qso_highz_%i.pkl' % ibatch, 'rb') as f: \n",
    "        _, _, z, target_id, _, _ = pickle.load(f)\n",
    "    \n",
    "\n",
    "    # read absorbers\n",
    "    i_absorb, z_absorb = [], [] \n",
    "    with open('/tigress/chhahn/spender_qso/absorbers/CIV.DESI.edr.qso_highz_%i.pkl' % ibatch, 'rb') as f: \n",
    "        out = pickle.load(f)\n",
    "        i_absorb.append(np.concatenate([np.repeat(_o[0], len(_o[1])) for _o in out]))\n",
    "        z_absorb.append([_o[1] for _o in out])\n",
    "    i_absorb = np.concatenate(np.array(i_absorb))\n",
    "    z_absorb = np.concatenate(z_absorb[0])\n",
    "    z_absorbers.append(z_absorb)\n",
    "\n",
    "    tids.append(np.array(target_id)[i_absorb])\n",
    "    redshifts.append(np.array(z)[i_absorb])\n",
    "\n",
    "tids = np.concatenate(tids)\n",
    "redshifts = np.concatenate(redshifts)\n",
    "z_absorbers = np.concatenate(z_absorbers)"
   ]
  },
  {
   "cell_type": "code",
   "execution_count": 9,
   "id": "0219b213",
   "metadata": {},
   "outputs": [],
   "source": [
    "civ_absorbers = Table()\n",
    "civ_absorbers['ABSORBER'] = np.repeat('CIV', len(tids)).astype(\"<U24\")\n",
    "civ_absorbers['TARGETID'] = tids\n",
    "civ_absorbers['Z_ABSORBER'] = z_absorbers\n",
    "civ_absorbers['Z_QSO'] = redshifts"
   ]
  },
  {
   "cell_type": "code",
   "execution_count": 10,
   "id": "0eef2638",
   "metadata": {},
   "outputs": [
    {
     "name": "stdout",
     "output_type": "stream",
     "text": [
      "8018\n"
     ]
    }
   ],
   "source": [
    "print(len(civ_absorbers))"
   ]
  },
  {
   "cell_type": "markdown",
   "id": "dc6f1250",
   "metadata": {},
   "source": [
    "# identify unique absorbers"
   ]
  },
  {
   "cell_type": "code",
   "execution_count": 11,
   "id": "fa512338",
   "metadata": {},
   "outputs": [],
   "source": [
    "for i in range(len(mgii_absorbers)): \n",
    "    tid, zabs = np.array(mgii_absorbers['TARGETID'])[i], np.array(mgii_absorbers['Z_ABSORBER'])[i]\n",
    "    same_abs = (civ_absorbers['TARGETID'] == tid) & (np.abs(civ_absorbers['Z_ABSORBER'] - zabs) < 0.01)\n",
    "    if np.sum(same_abs) == 0: continue\n",
    "    \n",
    "    mgii_absorbers['ABSORBER'][i] = 'MgII, CIV'\n",
    "    civ_absorbers['ABSORBER'][same_abs] = ''"
   ]
  },
  {
   "cell_type": "code",
   "execution_count": 12,
   "id": "7c12f9fd",
   "metadata": {},
   "outputs": [],
   "source": [
    "all_absorbers = vstack([mgii_absorbers, civ_absorbers[civ_absorbers['ABSORBER'] != '']])"
   ]
  },
  {
   "cell_type": "code",
   "execution_count": 15,
   "id": "9c7c799f",
   "metadata": {},
   "outputs": [
    {
     "data": {
      "text/html": [
       "<div><i>Table length=100</i>\n",
       "<table id=\"table23232938179280\" class=\"table-striped table-bordered table-condensed\">\n",
       "<thead><tr><th>ABSORBER</th><th>TARGETID</th><th>Z_ABSORBER</th><th>Z_QSO</th></tr></thead>\n",
       "<thead><tr><th>str24</th><th>int64</th><th>float64</th><th>float32</th></tr></thead>\n",
       "<tr><td>MgII</td><td>39628209360211028</td><td>1.740926369650913</td><td>2.3799982</td></tr>\n",
       "<tr><td>MgII</td><td>39628226602996021</td><td>1.0086162395195515</td><td>2.1355138</td></tr>\n",
       "<tr><td>MgII</td><td>39628249520673336</td><td>0.9511188945984902</td><td>2.2397785</td></tr>\n",
       "<tr><td>MgII</td><td>39628249520673336</td><td>1.3911152392609616</td><td>2.2397785</td></tr>\n",
       "<tr><td>MgII</td><td>39628277920302253</td><td>1.4133475171589256</td><td>2.5400681</td></tr>\n",
       "<tr><td>MgII</td><td>39628289223953558</td><td>1.8906805735101107</td><td>3.4958878</td></tr>\n",
       "<tr><td>MgII</td><td>39628289194594224</td><td>1.4379488988958886</td><td>2.6758394</td></tr>\n",
       "<tr><td>MgII</td><td>39628294819155907</td><td>0.9529940237701774</td><td>2.267615</td></tr>\n",
       "<tr><td>MgII</td><td>39628300452104833</td><td>0.7890041146983442</td><td>2.139522</td></tr>\n",
       "<tr><td>...</td><td>...</td><td>...</td><td>...</td></tr>\n",
       "<tr><td>MgII</td><td>39632939952112904</td><td>1.4930446117869411</td><td>2.727742</td></tr>\n",
       "<tr><td>MgII</td><td>39632929772536413</td><td>0.9239519483464173</td><td>2.3649836</td></tr>\n",
       "<tr><td>MgII</td><td>39632929772536413</td><td>0.9581778561919938</td><td>2.3649836</td></tr>\n",
       "<tr><td>MgII</td><td>39632960156075744</td><td>1.5006794124178586</td><td>2.426785</td></tr>\n",
       "<tr><td>MgII</td><td>39632955131298774</td><td>1.531261209502718</td><td>2.105386</td></tr>\n",
       "<tr><td>MgII, CIV</td><td>39632945035611238</td><td>2.0819027708154536</td><td>2.1868184</td></tr>\n",
       "<tr><td>MgII</td><td>39632939981474874</td><td>1.0715696125108791</td><td>2.606947</td></tr>\n",
       "<tr><td>MgII</td><td>39628506119800833</td><td>0.9225807584845837</td><td>2.4522376</td></tr>\n",
       "<tr><td>MgII</td><td>39628506119800833</td><td>1.0065544755945781</td><td>2.4522376</td></tr>\n",
       "<tr><td>MgII</td><td>39628506119800833</td><td>1.4122784665648496</td><td>2.4522376</td></tr>\n",
       "</table></div>"
      ],
      "text/plain": [
       "<Table length=100>\n",
       " ABSORBER      TARGETID         Z_ABSORBER       Z_QSO  \n",
       "  str24         int64            float64        float32 \n",
       "--------- ----------------- ------------------ ---------\n",
       "     MgII 39628209360211028  1.740926369650913 2.3799982\n",
       "     MgII 39628226602996021 1.0086162395195515 2.1355138\n",
       "     MgII 39628249520673336 0.9511188945984902 2.2397785\n",
       "     MgII 39628249520673336 1.3911152392609616 2.2397785\n",
       "     MgII 39628277920302253 1.4133475171589256 2.5400681\n",
       "     MgII 39628289223953558 1.8906805735101107 3.4958878\n",
       "     MgII 39628289194594224 1.4379488988958886 2.6758394\n",
       "     MgII 39628294819155907 0.9529940237701774  2.267615\n",
       "     MgII 39628300452104833 0.7890041146983442  2.139522\n",
       "      ...               ...                ...       ...\n",
       "     MgII 39632939952112904 1.4930446117869411  2.727742\n",
       "     MgII 39632929772536413 0.9239519483464173 2.3649836\n",
       "     MgII 39632929772536413 0.9581778561919938 2.3649836\n",
       "     MgII 39632960156075744 1.5006794124178586  2.426785\n",
       "     MgII 39632955131298774  1.531261209502718  2.105386\n",
       "MgII, CIV 39632945035611238 2.0819027708154536 2.1868184\n",
       "     MgII 39632939981474874 1.0715696125108791  2.606947\n",
       "     MgII 39628506119800833 0.9225807584845837 2.4522376\n",
       "     MgII 39628506119800833 1.0065544755945781 2.4522376\n",
       "     MgII 39628506119800833 1.4122784665648496 2.4522376"
      ]
     },
     "execution_count": 15,
     "metadata": {},
     "output_type": "execute_result"
    }
   ],
   "source": [
    "all_absorbers[:100]"
   ]
  },
  {
   "cell_type": "code",
   "execution_count": 16,
   "id": "a06ebbd0",
   "metadata": {},
   "outputs": [
    {
     "name": "stderr",
     "output_type": "stream",
     "text": [
      "/home/chhahn/.conda/envs/gqp/lib/python3.11/site-packages/astropy/io/misc/hdf5.py:281: UserWarning: table path was not set via the path= argument; using default path __astropy_table__\n",
      "  warnings.warn(\n"
     ]
    }
   ],
   "source": [
    "all_absorbers.write('/tigress/chhahn/spender_qso/absorbers/DESI.edr.qso_highz.absorbers.hdf5', overwrite=True)"
   ]
  },
  {
   "cell_type": "code",
   "execution_count": null,
   "id": "49606983",
   "metadata": {},
   "outputs": [],
   "source": []
  }
 ],
 "metadata": {
  "kernelspec": {
   "display_name": "gqp",
   "language": "python",
   "name": "gqp"
  },
  "language_info": {
   "codemirror_mode": {
    "name": "ipython",
    "version": 3
   },
   "file_extension": ".py",
   "mimetype": "text/x-python",
   "name": "python",
   "nbconvert_exporter": "python",
   "pygments_lexer": "ipython3",
   "version": "3.11.9"
  }
 },
 "nbformat": 4,
 "nbformat_minor": 5
}

{
 "cells": [
  {
   "cell_type": "code",
   "execution_count": 1,
   "id": "1eff9e22",
   "metadata": {},
   "outputs": [],
   "source": [
    "import os\n",
    "import pickle\n",
    "import numpy as np\n",
    "\n",
    "from spenderq import load_model\n",
    "from spenderq import util as U"
   ]
  },
  {
   "cell_type": "code",
   "execution_count": 2,
   "id": "45de13ae",
   "metadata": {},
   "outputs": [],
   "source": [
    "# --- plotting --- \n",
    "import corner as DFM\n",
    "import matplotlib as mpl\n",
    "import matplotlib.pyplot as plt\n",
    "mpl.rcParams['text.usetex'] = True\n",
    "mpl.rcParams['font.family'] = 'serif'\n",
    "mpl.rcParams['axes.linewidth'] = 1.5\n",
    "mpl.rcParams['axes.xmargin'] = 1\n",
    "mpl.rcParams['xtick.labelsize'] = 'x-large'\n",
    "mpl.rcParams['xtick.major.size'] = 5\n",
    "mpl.rcParams['xtick.major.width'] = 1.5\n",
    "mpl.rcParams['ytick.labelsize'] = 'x-large'\n",
    "mpl.rcParams['ytick.major.size'] = 5\n",
    "mpl.rcParams['ytick.major.width'] = 1.5\n",
    "mpl.rcParams['legend.frameon'] = False\n",
    "%matplotlib inline"
   ]
  },
  {
   "cell_type": "code",
   "execution_count": 3,
   "id": "74854852",
   "metadata": {},
   "outputs": [
    {
     "name": "stderr",
     "output_type": "stream",
     "text": [
      "/home/chhahn/projects/SpenderQ/src/spenderq/__init__.py:41: FutureWarning: You are using `torch.load` with `weights_only=False` (the current default value), which uses the default pickle module implicitly. It is possible to construct malicious pickle data which will execute arbitrary code during unpickling (See https://github.com/pytorch/pytorch/blob/main/SECURITY.md#untrusted-models for more details). In a future release, the default value for `weights_only` will be flipped to `True`. This limits the functions that could be executed during unpickling. Arbitrary objects will no longer be allowed to be loaded via this mode unless they are explicitly allowlisted by the user via `torch.serialization.add_safe_globals`. We recommend you start setting `weights_only=True` for any use case where you don't have full control of the loaded file. Please open an issue on GitHub for any issues related to this experimental feature.\n",
      "  model_struct = torch.load(filename, map_location=device)\n"
     ]
    }
   ],
   "source": [
    "niter = 3\n",
    "models, losses = load_model('/tigress/chhahn/spender_qso/models/qso.london.z_2p1_3p5.rebin.iter%i.pt' % niter)"
   ]
  },
  {
   "cell_type": "code",
   "execution_count": 4,
   "id": "8425abdb",
   "metadata": {},
   "outputs": [],
   "source": [
    "ibatch = 0 \n",
    "\n",
    "with open('/tigress/chhahn/spender_qso/train/DESIlondon_highz.rebin.iter%i_%i.pkl' % (niter, ibatch), \"rb\") as f:\n",
    "    spec, w, z, target_id, norm, zerr = pickle.load(f)"
   ]
  },
  {
   "cell_type": "code",
   "execution_count": 5,
   "id": "20e40ba9",
   "metadata": {},
   "outputs": [
    {
     "ename": "NameError",
     "evalue": "name 'torch' is not defined",
     "output_type": "error",
     "traceback": [
      "\u001b[0;31m---------------------------------------------------------------------------\u001b[0m",
      "\u001b[0;31mNameError\u001b[0m                                 Traceback (most recent call last)",
      "Cell \u001b[0;32mIn[5], line 1\u001b[0m\n\u001b[0;32m----> 1\u001b[0m \u001b[38;5;28;01mwith\u001b[39;00m \u001b[43mtorch\u001b[49m\u001b[38;5;241m.\u001b[39mno_grad():\n\u001b[1;32m      2\u001b[0m     models[\u001b[38;5;241m0\u001b[39m]\u001b[38;5;241m.\u001b[39meval()\n\u001b[1;32m      4\u001b[0m     s \u001b[38;5;241m=\u001b[39m models[\u001b[38;5;241m0\u001b[39m]\u001b[38;5;241m.\u001b[39mencode(spec)\n",
      "\u001b[0;31mNameError\u001b[0m: name 'torch' is not defined"
     ]
    }
   ],
   "source": [
    "with torch.no_grad():\n",
    "    models[0].eval()\n",
    "\n",
    "    s = models[0].encode(spec)\n",
    "    spec_rest = models[0].decode(s)"
   ]
  },
  {
   "cell_type": "code",
   "execution_count": null,
   "id": "94291a7e",
   "metadata": {},
   "outputs": [],
   "source": [
    "fig = plt.figure(figsize=(14,6))\n",
    "igal = 393\n",
    "\n",
    "sub = fig.add_subplot(111)\n",
    "sub.plot(models[0].wave_obs, spec[igal], c='gray', alpha=0.5, lw=1, label='London Mock')\n",
    "sub.plot(models[0].wave_rest * (1+z[igal]), spec_rest[igal], color='k', lw=1, ls='--', label='spender-qso')\n",
    "sub.text(4250, -3, 'Spender', fontsize=150)\n",
    "sub.text(6000, -3, '$Q$', fontsize=150)\n",
    "sub.set_xlim(4000., 6800.)\n",
    "\n",
    "plt.show()\n",
    "plt.close()"
   ]
  },
  {
   "cell_type": "code",
   "execution_count": null,
   "id": "cfd2b5e2",
   "metadata": {},
   "outputs": [],
   "source": []
  }
 ],
 "metadata": {
  "kernelspec": {
   "display_name": "gqp [~/.conda/envs/gqp/]",
   "language": "python",
   "name": "conda_gqp"
  },
  "language_info": {
   "codemirror_mode": {
    "name": "ipython",
    "version": 3
   },
   "file_extension": ".py",
   "mimetype": "text/x-python",
   "name": "python",
   "nbconvert_exporter": "python",
   "pygments_lexer": "ipython3",
   "version": "3.11.9"
  }
 },
 "nbformat": 4,
 "nbformat_minor": 5
}
